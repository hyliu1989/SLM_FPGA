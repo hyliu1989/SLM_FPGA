{
 "cells": [
  {
   "cell_type": "markdown",
   "metadata": {},
   "source": [
    "Python wrapper for the JTAG Atlantic communiation library\n",
    "\n",
    "Adapted from http://alterawiki.com/wiki/High_Speed_Image_Download_Demo"
   ]
  },
  {
   "cell_type": "code",
   "execution_count": null,
   "metadata": {
    "collapsed": true
   },
   "outputs": [],
   "source": [
    "import ctypes\n",
    "import numpy as np"
   ]
  },
  {
   "cell_type": "code",
   "execution_count": null,
   "metadata": {
    "collapsed": true
   },
   "outputs": [],
   "source": [
    "# requiring jtag_atlantic.dll and jtag_client.dll put in the same folder as this notebook\n",
    "dll_path = 'jtag_atlantic.dll'"
   ]
  },
  {
   "cell_type": "code",
   "execution_count": null,
   "metadata": {
    "collapsed": true
   },
   "outputs": [],
   "source": [
    "atlantic_dll = ctypes.cdll.LoadLibrary(dll_path)"
   ]
  },
  {
   "cell_type": "markdown",
   "metadata": {},
   "source": [
    "# Function definitions"
   ]
  },
  {
   "cell_type": "code",
   "execution_count": null,
   "metadata": {
    "collapsed": true
   },
   "outputs": [],
   "source": [
    "\"\"\"\n",
    "JTAGATLANTIC * jtagatlantic_open (\n",
    "    const char * chain,\n",
    "    int device_index,\n",
    "    int link_instance,\n",
    "    const char * app_name);\n",
    "\"\"\"\n",
    "JAOpen = getattr(atlantic_dll,'?jtagatlantic_open@@YAPEAUJTAGATLANTIC@@PEBDHH0@Z')  # mangled name obtained from dllwalker\n",
    "JAOpen.argtypes = [ctypes.c_char_p, ctypes.c_int64, ctypes.c_int64, ctypes.c_char_p]\n",
    "JAOpen.restype = ctypes.c_void_p\n",
    "\n",
    "\"\"\"\n",
    "int  jtagatlantic_get_error (const char * * other_info);\n",
    "\"\"\"\n",
    "JAGetError = getattr(atlantic_dll,'?jtagatlantic_get_error@@YA?AW4JATL_ERROR@@PEAPEBD@Z')\n",
    "JAGetError.argtypes = [ctypes.c_void_p]\n",
    "JAGetError.restype = ctypes.c_int64\n",
    "\n",
    "\"\"\"\n",
    "void jtagatlantic_close (JTAGATLANTIC * link);\n",
    "\"\"\"\n",
    "JAClose = getattr(atlantic_dll,'?jtagatlantic_close@@YAXPEAUJTAGATLANTIC@@@Z')\n",
    "JAClose.argtypes = [ctypes.c_void_p]\n",
    "JAClose.restype = None\n",
    "\n",
    "\"\"\"\n",
    "int  jtagatlantic_write (JTAGATLANTIC * link, const char * data, unsigned int count);\n",
    "\"\"\"\n",
    "JAWrite = getattr(atlantic_dll,'?jtagatlantic_write@@YAHPEAUJTAGATLANTIC@@PEBDI@Z')\n",
    "JAWrite.argtypes = [ctypes.c_void_p, ctypes.c_char_p, ctypes.c_uint64]\n",
    "JAWrite.restype = ctypes.c_int64\n",
    "\n",
    "\"\"\"\n",
    "int  jtagatlantic_flush (JTAGATLANTIC * link);\n",
    "\"\"\"\n",
    "JAFlush = getattr(atlantic_dll,'?jtagatlantic_flush@@YAHPEAUJTAGATLANTIC@@@Z')\n",
    "JAFlush.argtypes = [ctypes.c_void_p]\n",
    "JAFlush.restype = ctypes.c_int64\n",
    "\n",
    "\"\"\"\n",
    "int  jtagatlantic_read (JTAGATLANTIC * link, char * buffer, unsigned int buffsize);\n",
    "\"\"\"\n",
    "JARead = getattr(atlantic_dll,'?jtagatlantic_read@@YAHPEAUJTAGATLANTIC@@PEADI@Z')\n",
    "JARead.argtypes = [ctypes.c_void_p, ctypes.c_char_p, ctypes.c_uint64]\n",
    "JARead.restype = ctypes.c_int64"
   ]
  },
  {
   "cell_type": "code",
   "execution_count": null,
   "metadata": {
    "collapsed": true
   },
   "outputs": [],
   "source": [
    "# information obtained from running nios2-terminal.exe\n",
    "cable_name = b\"DE-SoC [USB-1]\"  # related to the board you are using\n",
    "device_index = 2  # related to the JTAG device on the board. 0: to let the DLL determine itself. \n",
    "                  #      1: usually the on-board FPGA \"burner\" chip, 2: the FPGA chip\n",
    "link_instance = 0 # -1: to let the DLL determine the JTAG instance in the chip. 0: in my case I have only 1 instance\n",
    "                  #      of JTAG-UART so it is indexed by 0.\n",
    "\n",
    "# establish the link\n",
    "link = JAOpen(\n",
    "    ctypes.c_char_p(cable_name),\n",
    "    ctypes.c_int64(device_index),\n",
    "    ctypes.c_int64(link_instance),\n",
    "    ctypes.c_char_p(b'')\n",
    ")"
   ]
  },
  {
   "cell_type": "markdown",
   "metadata": {},
   "source": [
    "# Load test image"
   ]
  },
  {
   "cell_type": "code",
   "execution_count": null,
   "metadata": {},
   "outputs": [],
   "source": [
    "%pylab inline\n",
    "import skimage.io as skio\n",
    "import skimage.transform as sktr"
   ]
  },
  {
   "cell_type": "code",
   "execution_count": null,
   "metadata": {},
   "outputs": [],
   "source": [
    "img = skio.imread('./CAL_PRI_LOGO_ON_NAV_launch.png')\n",
    "img = img[:,:,:3].sum(axis=2)\n",
    "img = sktr.resize(img, (1024,1024))\n",
    "img = (img != 0).astype(np.uint8)*255\n",
    "img[-1,-1] = 255\n",
    "img.dtype"
   ]
  },
  {
   "cell_type": "code",
   "execution_count": null,
   "metadata": {},
   "outputs": [],
   "source": [
    "imshow(img.astype(np.float64))\n",
    "colorbar()"
   ]
  },
  {
   "cell_type": "raw",
   "metadata": {},
   "source": [
    "np.random.seed((14,))\n",
    "img2 = np.random.randint(0,255,size=1024*1024).astype(np.uint8)\n",
    "print((img2==254).sum())\n",
    "img2[img2==254] = 255"
   ]
  },
  {
   "cell_type": "code",
   "execution_count": null,
   "metadata": {},
   "outputs": [],
   "source": [
    "img2 = skio.imread('image347.jpg')\n",
    "img2.shape, img2.dtype"
   ]
  },
  {
   "cell_type": "code",
   "execution_count": null,
   "metadata": {},
   "outputs": [],
   "source": [
    "177-134"
   ]
  },
  {
   "cell_type": "code",
   "execution_count": null,
   "metadata": {
    "collapsed": true
   },
   "outputs": [],
   "source": [
    "img2 = img2[:-43,:,:].astype(float64).sum(axis=2)\n",
    "img2 = sktr.resize(img2,(1024,1024), mode='constant')\n",
    "img2 = (img2/img2.max()*255).astype(np.uint8)\n",
    "img2[img2==254] = 255"
   ]
  },
  {
   "cell_type": "markdown",
   "metadata": {},
   "source": [
    "# Send (cmd 0b10??????)\n",
    "To do: write a function for it and take care of value 254 to be repeated."
   ]
  },
  {
   "cell_type": "code",
   "execution_count": null,
   "metadata": {},
   "outputs": [],
   "source": [
    "img_bytes = img.tobytes() + img2.tobytes()\n",
    "len(img_bytes)"
   ]
  },
  {
   "cell_type": "code",
   "execution_count": null,
   "metadata": {},
   "outputs": [],
   "source": [
    "num_images = 2\n",
    "assert 1 <= num_images and num_images <= 64\n",
    "cmd = bytes([0x80+num_images-1])\n",
    "to_send = cmd + img_bytes + b'\\xFE\\x01'\n",
    "print('to send',len(to_send),'bytes')\n",
    "JAFlush(link)\n",
    "for i in range(0, len(to_send), 10000):\n",
    "    to_send_chunk = to_send[i:i+10000]\n",
    "    JAWrite(link, ctypes.c_char_p(to_send_chunk), len(to_send_chunk))\n",
    "    JAFlush(link)"
   ]
  },
  {
   "cell_type": "markdown",
   "metadata": {},
   "source": [
    "# Send Single (cmd 0b01??????)\n",
    "To do: write a function for it and take care of value 254 to be repeated."
   ]
  },
  {
   "cell_type": "code",
   "execution_count": null,
   "metadata": {},
   "outputs": [],
   "source": [
    "img_bytes = img.tobytes()\n",
    "len(img_bytes)"
   ]
  },
  {
   "cell_type": "code",
   "execution_count": null,
   "metadata": {},
   "outputs": [],
   "source": [
    "frame_id = 2\n",
    "assert 0 <= frame_id and frame_id <= 63\n",
    "cmd = bytes([0x40+frame_id])\n",
    "to_send = cmd + img_bytes + b'\\xFE\\x01'\n",
    "print('to send',len(to_send),'bytes')\n",
    "JAFlush(link)\n",
    "for i in range(0, len(to_send), 10000):\n",
    "    to_send_chunk = to_send[i:i+10000]\n",
    "    JAWrite(link, ctypes.c_char_p(to_send_chunk), len(to_send_chunk))\n",
    "    JAFlush(link)"
   ]
  },
  {
   "cell_type": "markdown",
   "metadata": {},
   "source": [
    "# Total Number of Frames (cmd 0x07)"
   ]
  },
  {
   "cell_type": "code",
   "execution_count": null,
   "metadata": {
    "collapsed": true
   },
   "outputs": [],
   "source": [
    "def sendNumFrames(link, num_frames):\n",
    "    if num_frames <= 0 or num_frames > 64:\n",
    "        raise ValueError('The value of number of frames can only be within 1 to 64.')\n",
    "    num_frames = np.uint8(num_frames)\n",
    "    cmd = b'\\x07'\n",
    "    JAFlush(link)\n",
    "    to_send = cmd + bytes([num_frames]) + b'\\xFE\\x01'\n",
    "    n_bytes_sent = JAWrite(link, ctypes.c_char_p(to_send), len(to_send))\n",
    "    JAFlush(link)\n",
    "    return (n_bytes_sent==len(to_send))"
   ]
  },
  {
   "cell_type": "code",
   "execution_count": null,
   "metadata": {},
   "outputs": [],
   "source": [
    "sendNumFrames(link, 3)"
   ]
  },
  {
   "cell_type": "markdown",
   "metadata": {
    "collapsed": true
   },
   "source": [
    "# Offsets (cmd 0x01, 0x02)"
   ]
  },
  {
   "cell_type": "code",
   "execution_count": null,
   "metadata": {
    "collapsed": true
   },
   "outputs": [],
   "source": [
    "def sendOffsetX(link, offset_x_value=0):\n",
    "    if abs(offset_x_value) > 128:\n",
    "        raise ValueError('The absolute value of offset should not exceed 128')\n",
    "    cmd = b'\\x01'\n",
    "    JAFlush(link)\n",
    "    to_send_offset_x = cmd + bytes([abs(offset_x_value), (offset_x_value<0)]) + b'\\xFE\\x01'\n",
    "    n_bytes_sent = JAWrite(link, ctypes.c_char_p(to_send_offset_x), len(to_send_offset_x))\n",
    "    JAFlush(link)\n",
    "    return (n_bytes_sent==len(to_send_offset_x))"
   ]
  },
  {
   "cell_type": "code",
   "execution_count": null,
   "metadata": {},
   "outputs": [],
   "source": [
    "def sendOffsetY(link, offset_y_value=0):\n",
    "    if abs(offset_y_value) > 128:\n",
    "        raise ValueError('The absolute value of offset should not exceed 128')\n",
    "    cmd = b'\\x02'\n",
    "    JAFlush(link)\n",
    "    to_send_offset_y = cmd + bytes([abs(offset_y_value), (offset_y_value<0)]) + b'\\xFE\\x01'\n",
    "    n_bytes_sent = JAWrite(link, ctypes.c_char_p(to_send_offset_y), len(to_send_offset_y))\n",
    "    JAFlush(link)\n",
    "    return (n_bytes_sent==len(to_send_offset_y))"
   ]
  },
  {
   "cell_type": "code",
   "execution_count": null,
   "metadata": {},
   "outputs": [],
   "source": [
    "sendOffsetY(link,128)"
   ]
  },
  {
   "cell_type": "markdown",
   "metadata": {},
   "source": [
    "# Cycles of Display (0x03)"
   ]
  },
  {
   "cell_type": "code",
   "execution_count": null,
   "metadata": {},
   "outputs": [],
   "source": [
    "def sendCyclesOfDisplay(link, n_cycles=1):\n",
    "    if abs(n_cycles) >= (1<<16):\n",
    "        raise ValueError('The value should not exceed 65535')\n",
    "    n_cycles = np.uint16(n_cycles)\n",
    "    n_cycles_u = np.uint8((n_cycles & 0xFF00) >> 8)\n",
    "    n_cycles_l = np.uint8((n_cycles & 0x00FF)     )\n",
    "    cmd = b'\\x03'\n",
    "    JAFlush(link)\n",
    "    to_send = cmd + bytes([n_cycles_l, n_cycles_u]) + b'\\xFE\\x01'\n",
    "    n_bytes_sent = JAWrite(link, ctypes.c_char_p(to_send), len(to_send))\n",
    "    JAFlush(link)\n",
    "    return (n_bytes_sent==len(to_send))"
   ]
  },
  {
   "cell_type": "code",
   "execution_count": null,
   "metadata": {},
   "outputs": [],
   "source": [
    "sendCyclesOfDisplay(link,200)"
   ]
  },
  {
   "cell_type": "markdown",
   "metadata": {},
   "source": [
    "# Trigger the sequencing (0x04)"
   ]
  },
  {
   "cell_type": "code",
   "execution_count": null,
   "metadata": {
    "collapsed": true
   },
   "outputs": [],
   "source": [
    "def triggerSequencing(link):\n",
    "    cmd = b'\\x04'\n",
    "    JAFlush(link)\n",
    "    to_send = cmd + b'\\xFE\\x01'\n",
    "    n_bytes_sent = JAWrite(link, ctypes.c_char_p(to_send), len(to_send))\n",
    "    JAFlush(link)\n",
    "    return (n_bytes_sent==len(to_send))"
   ]
  },
  {
   "cell_type": "code",
   "execution_count": null,
   "metadata": {},
   "outputs": [],
   "source": [
    "triggerSequencing(link)"
   ]
  },
  {
   "cell_type": "markdown",
   "metadata": {},
   "source": [
    "# Galvo values (0x05, 0x06)"
   ]
  },
  {
   "cell_type": "code",
   "execution_count": null,
   "metadata": {
    "collapsed": true
   },
   "outputs": [],
   "source": [
    "def _sendGalvoValues(link, value, cmd):\n",
    "    if value >= (1 << 24):\n",
    "        raise ValueError('The value should not exceed %d' % (1<<24-1))\n",
    "    value = np.uint32(value)\n",
    "    value_0 = np.uint8((value & 0x0000FF)     )\n",
    "    value_1 = np.uint8((value & 0x00FF00) >> 8)\n",
    "    value_2 = np.uint8((value & 0xFF0000) >> 16)\n",
    "    JAFlush(link)\n",
    "    to_send = cmd + bytes([value_0,value_1,value_2]) + b'\\xFE\\x01'\n",
    "    n_bytes_sent = JAWrite(link, ctypes.c_char_p(to_send), len(to_send))\n",
    "    JAFlush(link)\n",
    "    return (n_bytes_sent==len(to_send))\n",
    "\n",
    "def sendGalvoValuesX(link, value):\n",
    "    return _sendGalvoValues(link, value, b'\\x05')\n",
    "def sendGalvoValuesY(link, value):\n",
    "    return _sendGalvoValues(link, value, b'\\x06')"
   ]
  },
  {
   "cell_type": "code",
   "execution_count": null,
   "metadata": {},
   "outputs": [],
   "source": [
    "sendGalvoValuesX(link, 14223)"
   ]
  },
  {
   "cell_type": "markdown",
   "metadata": {
    "collapsed": true
   },
   "source": [
    "# Close connection"
   ]
  },
  {
   "cell_type": "code",
   "execution_count": null,
   "metadata": {
    "collapsed": true
   },
   "outputs": [],
   "source": [
    "JAClose(link)"
   ]
  },
  {
   "cell_type": "code",
   "execution_count": null,
   "metadata": {
    "collapsed": true
   },
   "outputs": [],
   "source": []
  }
 ],
 "metadata": {
  "kernelspec": {
   "display_name": "Python 3",
   "language": "python",
   "name": "python3"
  },
  "language_info": {
   "codemirror_mode": {
    "name": "ipython",
    "version": 3
   },
   "file_extension": ".py",
   "mimetype": "text/x-python",
   "name": "python",
   "nbconvert_exporter": "python",
   "pygments_lexer": "ipython3",
   "version": "3.6.3"
  }
 },
 "nbformat": 4,
 "nbformat_minor": 2
}
